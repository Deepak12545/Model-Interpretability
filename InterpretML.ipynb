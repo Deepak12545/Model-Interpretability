{
 "cells": [
  {
   "cell_type": "code",
   "execution_count": 28,
   "metadata": {},
   "outputs": [],
   "source": [
    "import numpy as np\n",
    "import pandas as pd\n",
    "import seaborn as sns\n",
    "import matplotlib.pyplot as plt\n",
    "%matplotlib inline "
   ]
  },
  {
   "cell_type": "markdown",
   "metadata": {},
   "source": [
    "# Importing the Data"
   ]
  },
  {
   "cell_type": "code",
   "execution_count": 29,
   "metadata": {},
   "outputs": [],
   "source": [
    "df=pd.read_csv('uc-assignment-slots.csv')"
   ]
  },
  {
   "cell_type": "code",
   "execution_count": 30,
   "metadata": {},
   "outputs": [
    {
     "data": {
      "text/html": [
       "<div>\n",
       "<style scoped>\n",
       "    .dataframe tbody tr th:only-of-type {\n",
       "        vertical-align: middle;\n",
       "    }\n",
       "\n",
       "    .dataframe tbody tr th {\n",
       "        vertical-align: top;\n",
       "    }\n",
       "\n",
       "    .dataframe thead th {\n",
       "        text-align: right;\n",
       "    }\n",
       "</style>\n",
       "<table border=\"1\" class=\"dataframe\">\n",
       "  <thead>\n",
       "    <tr style=\"text-align: right;\">\n",
       "      <th></th>\n",
       "      <th>record_id</th>\n",
       "      <th>city_key</th>\n",
       "      <th>event_time</th>\n",
       "      <th>weekday</th>\n",
       "      <th>category_key</th>\n",
       "      <th>rptcatg</th>\n",
       "      <th>req_id</th>\n",
       "      <th>session_group</th>\n",
       "    </tr>\n",
       "  </thead>\n",
       "  <tbody>\n",
       "    <tr>\n",
       "      <th>0</th>\n",
       "      <td>5c1699b0c3658c25008e1192</td>\n",
       "      <td>city_chennai_v2</td>\n",
       "      <td>2018-12-17 00:00:08</td>\n",
       "      <td>weekday</td>\n",
       "      <td>professional_bathroom_cleaning</td>\n",
       "      <td>Cleaning - Other</td>\n",
       "      <td>5c1699d714bd522300fae954</td>\n",
       "      <td>3022</td>\n",
       "    </tr>\n",
       "    <tr>\n",
       "      <th>1</th>\n",
       "      <td>5c1699b72dd2b92500f5f400</td>\n",
       "      <td>city_mumbai_v2</td>\n",
       "      <td>2018-12-17 00:00:15</td>\n",
       "      <td>weekday</td>\n",
       "      <td>electricians</td>\n",
       "      <td>EPC</td>\n",
       "      <td>5c1699ed70fa4f2500d66e7c</td>\n",
       "      <td>3303</td>\n",
       "    </tr>\n",
       "    <tr>\n",
       "      <th>2</th>\n",
       "      <td>5c1699df4fb96a2400166132</td>\n",
       "      <td>city_mumbai_v2</td>\n",
       "      <td>2018-12-17 00:00:55</td>\n",
       "      <td>weekday</td>\n",
       "      <td>salon_at_home</td>\n",
       "      <td>Salon at Home</td>\n",
       "      <td>NaN</td>\n",
       "      <td>3330</td>\n",
       "    </tr>\n",
       "    <tr>\n",
       "      <th>3</th>\n",
       "      <td>5c1699f405cbce26002ff832</td>\n",
       "      <td>city_kolkata_v2</td>\n",
       "      <td>2018-12-17 00:01:16</td>\n",
       "      <td>weekday</td>\n",
       "      <td>salon_at_home</td>\n",
       "      <td>Salon at Home</td>\n",
       "      <td>NaN</td>\n",
       "      <td>3330</td>\n",
       "    </tr>\n",
       "    <tr>\n",
       "      <th>4</th>\n",
       "      <td>5c1699fb02f88224006901f5</td>\n",
       "      <td>city_chennai_v2</td>\n",
       "      <td>2018-12-17 00:01:23</td>\n",
       "      <td>weekday</td>\n",
       "      <td>plumbers</td>\n",
       "      <td>EPC</td>\n",
       "      <td>5c169a6c8c954c2200693538</td>\n",
       "      <td>3303</td>\n",
       "    </tr>\n",
       "  </tbody>\n",
       "</table>\n",
       "</div>"
      ],
      "text/plain": [
       "                  record_id         city_key           event_time  weekday  \\\n",
       "0  5c1699b0c3658c25008e1192  city_chennai_v2  2018-12-17 00:00:08  weekday   \n",
       "1  5c1699b72dd2b92500f5f400   city_mumbai_v2  2018-12-17 00:00:15  weekday   \n",
       "2  5c1699df4fb96a2400166132   city_mumbai_v2  2018-12-17 00:00:55  weekday   \n",
       "3  5c1699f405cbce26002ff832  city_kolkata_v2  2018-12-17 00:01:16  weekday   \n",
       "4  5c1699fb02f88224006901f5  city_chennai_v2  2018-12-17 00:01:23  weekday   \n",
       "\n",
       "                     category_key           rptcatg                    req_id  \\\n",
       "0  professional_bathroom_cleaning  Cleaning - Other  5c1699d714bd522300fae954   \n",
       "1                    electricians               EPC  5c1699ed70fa4f2500d66e7c   \n",
       "2                   salon_at_home     Salon at Home                       NaN   \n",
       "3                   salon_at_home     Salon at Home                       NaN   \n",
       "4                        plumbers               EPC  5c169a6c8c954c2200693538   \n",
       "\n",
       "   session_group  \n",
       "0           3022  \n",
       "1           3303  \n",
       "2           3330  \n",
       "3           3330  \n",
       "4           3303  "
      ]
     },
     "execution_count": 30,
     "metadata": {},
     "output_type": "execute_result"
    }
   ],
   "source": [
    "df.head()"
   ]
  },
  {
   "cell_type": "code",
   "execution_count": 31,
   "metadata": {},
   "outputs": [
    {
     "name": "stderr",
     "output_type": "stream",
     "text": [
      "C:\\Users\\GURURAJAN\\Anaconda3\\lib\\site-packages\\pandas\\core\\indexing.py:205: SettingWithCopyWarning: \n",
      "A value is trying to be set on a copy of a slice from a DataFrame\n",
      "\n",
      "See the caveats in the documentation: http://pandas.pydata.org/pandas-docs/stable/user_guide/indexing.html#returning-a-view-versus-a-copy\n",
      "  self._setitem_with_indexer(indexer, value)\n"
     ]
    }
   ],
   "source": [
    "# Filling the values for Req_id\n",
    "df['req_id'].loc[~df['req_id'].isnull()] = 1  # not nan\n",
    "df['req_id'].loc[df['req_id'].isnull()] = 0   # nan\n"
   ]
  },
  {
   "cell_type": "code",
   "execution_count": 32,
   "metadata": {},
   "outputs": [],
   "source": [
    "# Dummyfication of Categorical features"
   ]
  },
  {
   "cell_type": "code",
   "execution_count": 33,
   "metadata": {},
   "outputs": [],
   "source": [
    "dum_df= df[['city_key','weekday','category_key','rptcatg']]"
   ]
  },
  {
   "cell_type": "code",
   "execution_count": 34,
   "metadata": {},
   "outputs": [],
   "source": [
    "dum_df=pd.get_dummies(dum_df)"
   ]
  },
  {
   "cell_type": "code",
   "execution_count": 35,
   "metadata": {},
   "outputs": [
    {
     "name": "stdout",
     "output_type": "stream",
     "text": [
      "<class 'pandas.core.frame.DataFrame'>\n",
      "RangeIndex: 816530 entries, 0 to 816529\n",
      "Data columns (total 42 columns):\n",
      "city_key_city_ahmedabad_v2                     816530 non-null uint8\n",
      "city_key_city_bangalore_v2                     816530 non-null uint8\n",
      "city_key_city_chandigarh_v2                    816530 non-null uint8\n",
      "city_key_city_chennai_v2                       816530 non-null uint8\n",
      "city_key_city_delhi_v2                         816530 non-null uint8\n",
      "city_key_city_hyderabad_v2                     816530 non-null uint8\n",
      "city_key_city_jaipur_v2                        816530 non-null uint8\n",
      "city_key_city_kolkata_v2                       816530 non-null uint8\n",
      "city_key_city_mumbai_v2                        816530 non-null uint8\n",
      "city_key_city_pune_v2                          816530 non-null uint8\n",
      "weekday_friday                                 816530 non-null uint8\n",
      "weekday_saturday                               816530 non-null uint8\n",
      "weekday_sunday                                 816530 non-null uint8\n",
      "weekday_weekday                                816530 non-null uint8\n",
      "category_key_ac_service_repair                 816530 non-null uint8\n",
      "category_key_car_cleaning                      816530 non-null uint8\n",
      "category_key_carpenters                        816530 non-null uint8\n",
      "category_key_electricians                      816530 non-null uint8\n",
      "category_key_massage_for_men                   816530 non-null uint8\n",
      "category_key_mens_grooming                     816530 non-null uint8\n",
      "category_key_microwave_repair                  816530 non-null uint8\n",
      "category_key_pest_control                      816530 non-null uint8\n",
      "category_key_plumbers                          816530 non-null uint8\n",
      "category_key_professional_bathroom_cleaning    816530 non-null uint8\n",
      "category_key_professional_carpet_cleaning      816530 non-null uint8\n",
      "category_key_professional_home_cleaning        816530 non-null uint8\n",
      "category_key_professional_kitchen_cleaning     816530 non-null uint8\n",
      "category_key_professional_sofa_cleaning        816530 non-null uint8\n",
      "category_key_refrigerator_repair               816530 non-null uint8\n",
      "category_key_ro_repair                         816530 non-null uint8\n",
      "category_key_salon_at_home                     816530 non-null uint8\n",
      "category_key_spa_at_home                       816530 non-null uint8\n",
      "category_key_washing_machine_repair            816530 non-null uint8\n",
      "rptcatg_Appliance Repair                       816530 non-null uint8\n",
      "rptcatg_Cleaning - Other                       816530 non-null uint8\n",
      "rptcatg_EPC                                    816530 non-null uint8\n",
      "rptcatg_Full Home Cleaning                     816530 non-null uint8\n",
      "rptcatg_Massage for Men                        816530 non-null uint8\n",
      "rptcatg_Mens Grooming                          816530 non-null uint8\n",
      "rptcatg_Pest Control                           816530 non-null uint8\n",
      "rptcatg_Salon at Home                          816530 non-null uint8\n",
      "rptcatg_Spa for Women                          816530 non-null uint8\n",
      "dtypes: uint8(42)\n",
      "memory usage: 32.7 MB\n"
     ]
    }
   ],
   "source": [
    "dum_df.info()"
   ]
  },
  {
   "cell_type": "code",
   "execution_count": 36,
   "metadata": {},
   "outputs": [],
   "source": [
    "df = df.join(dum_df)"
   ]
  },
  {
   "cell_type": "code",
   "execution_count": 37,
   "metadata": {},
   "outputs": [],
   "source": [
    "df.drop(['city_key','weekday','category_key','rptcatg'],axis=1,inplace=True)"
   ]
  },
  {
   "cell_type": "code",
   "execution_count": 38,
   "metadata": {},
   "outputs": [
    {
     "name": "stdout",
     "output_type": "stream",
     "text": [
      "<class 'pandas.core.frame.DataFrame'>\n",
      "RangeIndex: 816530 entries, 0 to 816529\n",
      "Data columns (total 46 columns):\n",
      "record_id                                      816530 non-null object\n",
      "event_time                                     816530 non-null object\n",
      "req_id                                         816530 non-null int64\n",
      "session_group                                  816530 non-null int64\n",
      "city_key_city_ahmedabad_v2                     816530 non-null uint8\n",
      "city_key_city_bangalore_v2                     816530 non-null uint8\n",
      "city_key_city_chandigarh_v2                    816530 non-null uint8\n",
      "city_key_city_chennai_v2                       816530 non-null uint8\n",
      "city_key_city_delhi_v2                         816530 non-null uint8\n",
      "city_key_city_hyderabad_v2                     816530 non-null uint8\n",
      "city_key_city_jaipur_v2                        816530 non-null uint8\n",
      "city_key_city_kolkata_v2                       816530 non-null uint8\n",
      "city_key_city_mumbai_v2                        816530 non-null uint8\n",
      "city_key_city_pune_v2                          816530 non-null uint8\n",
      "weekday_friday                                 816530 non-null uint8\n",
      "weekday_saturday                               816530 non-null uint8\n",
      "weekday_sunday                                 816530 non-null uint8\n",
      "weekday_weekday                                816530 non-null uint8\n",
      "category_key_ac_service_repair                 816530 non-null uint8\n",
      "category_key_car_cleaning                      816530 non-null uint8\n",
      "category_key_carpenters                        816530 non-null uint8\n",
      "category_key_electricians                      816530 non-null uint8\n",
      "category_key_massage_for_men                   816530 non-null uint8\n",
      "category_key_mens_grooming                     816530 non-null uint8\n",
      "category_key_microwave_repair                  816530 non-null uint8\n",
      "category_key_pest_control                      816530 non-null uint8\n",
      "category_key_plumbers                          816530 non-null uint8\n",
      "category_key_professional_bathroom_cleaning    816530 non-null uint8\n",
      "category_key_professional_carpet_cleaning      816530 non-null uint8\n",
      "category_key_professional_home_cleaning        816530 non-null uint8\n",
      "category_key_professional_kitchen_cleaning     816530 non-null uint8\n",
      "category_key_professional_sofa_cleaning        816530 non-null uint8\n",
      "category_key_refrigerator_repair               816530 non-null uint8\n",
      "category_key_ro_repair                         816530 non-null uint8\n",
      "category_key_salon_at_home                     816530 non-null uint8\n",
      "category_key_spa_at_home                       816530 non-null uint8\n",
      "category_key_washing_machine_repair            816530 non-null uint8\n",
      "rptcatg_Appliance Repair                       816530 non-null uint8\n",
      "rptcatg_Cleaning - Other                       816530 non-null uint8\n",
      "rptcatg_EPC                                    816530 non-null uint8\n",
      "rptcatg_Full Home Cleaning                     816530 non-null uint8\n",
      "rptcatg_Massage for Men                        816530 non-null uint8\n",
      "rptcatg_Mens Grooming                          816530 non-null uint8\n",
      "rptcatg_Pest Control                           816530 non-null uint8\n",
      "rptcatg_Salon at Home                          816530 non-null uint8\n",
      "rptcatg_Spa for Women                          816530 non-null uint8\n",
      "dtypes: int64(2), object(2), uint8(42)\n",
      "memory usage: 57.6+ MB\n"
     ]
    }
   ],
   "source": [
    "df.info()"
   ]
  },
  {
   "cell_type": "code",
   "execution_count": 39,
   "metadata": {},
   "outputs": [],
   "source": [
    "# Changing the Datatype of event_time to Datetime\n",
    "import datetime"
   ]
  },
  {
   "cell_type": "code",
   "execution_count": 40,
   "metadata": {},
   "outputs": [],
   "source": [
    "df['event_time'] =  pd.to_datetime(df['event_time'])"
   ]
  },
  {
   "cell_type": "code",
   "execution_count": 41,
   "metadata": {},
   "outputs": [
    {
     "data": {
      "text/plain": [
       "0    2018-12-17 00:00:08\n",
       "1    2018-12-17 00:00:15\n",
       "2    2018-12-17 00:00:55\n",
       "3    2018-12-17 00:01:16\n",
       "4    2018-12-17 00:01:23\n",
       "5    2018-12-17 00:01:38\n",
       "6    2018-12-17 00:01:42\n",
       "7    2018-12-17 00:01:44\n",
       "8    2018-12-17 00:01:59\n",
       "9    2018-12-17 00:02:11\n",
       "10   2018-12-17 00:02:49\n",
       "11   2018-12-17 00:03:06\n",
       "12   2018-12-17 00:03:23\n",
       "13   2018-12-17 00:03:42\n",
       "14   2018-12-17 00:04:00\n",
       "15   2018-12-17 00:05:48\n",
       "16   2018-12-17 00:06:57\n",
       "17   2018-12-17 00:06:58\n",
       "18   2018-12-17 00:07:36\n",
       "19   2018-12-17 00:08:15\n",
       "Name: event_time, dtype: datetime64[ns]"
      ]
     },
     "execution_count": 41,
     "metadata": {},
     "output_type": "execute_result"
    }
   ],
   "source": [
    "df['event_time'] [0:20]"
   ]
  },
  {
   "cell_type": "code",
   "execution_count": 42,
   "metadata": {},
   "outputs": [
    {
     "name": "stdout",
     "output_type": "stream",
     "text": [
      "<class 'pandas.core.frame.DataFrame'>\n",
      "RangeIndex: 816530 entries, 0 to 816529\n",
      "Data columns (total 46 columns):\n",
      "record_id                                      816530 non-null object\n",
      "event_time                                     816530 non-null datetime64[ns]\n",
      "req_id                                         816530 non-null int64\n",
      "session_group                                  816530 non-null int64\n",
      "city_key_city_ahmedabad_v2                     816530 non-null uint8\n",
      "city_key_city_bangalore_v2                     816530 non-null uint8\n",
      "city_key_city_chandigarh_v2                    816530 non-null uint8\n",
      "city_key_city_chennai_v2                       816530 non-null uint8\n",
      "city_key_city_delhi_v2                         816530 non-null uint8\n",
      "city_key_city_hyderabad_v2                     816530 non-null uint8\n",
      "city_key_city_jaipur_v2                        816530 non-null uint8\n",
      "city_key_city_kolkata_v2                       816530 non-null uint8\n",
      "city_key_city_mumbai_v2                        816530 non-null uint8\n",
      "city_key_city_pune_v2                          816530 non-null uint8\n",
      "weekday_friday                                 816530 non-null uint8\n",
      "weekday_saturday                               816530 non-null uint8\n",
      "weekday_sunday                                 816530 non-null uint8\n",
      "weekday_weekday                                816530 non-null uint8\n",
      "category_key_ac_service_repair                 816530 non-null uint8\n",
      "category_key_car_cleaning                      816530 non-null uint8\n",
      "category_key_carpenters                        816530 non-null uint8\n",
      "category_key_electricians                      816530 non-null uint8\n",
      "category_key_massage_for_men                   816530 non-null uint8\n",
      "category_key_mens_grooming                     816530 non-null uint8\n",
      "category_key_microwave_repair                  816530 non-null uint8\n",
      "category_key_pest_control                      816530 non-null uint8\n",
      "category_key_plumbers                          816530 non-null uint8\n",
      "category_key_professional_bathroom_cleaning    816530 non-null uint8\n",
      "category_key_professional_carpet_cleaning      816530 non-null uint8\n",
      "category_key_professional_home_cleaning        816530 non-null uint8\n",
      "category_key_professional_kitchen_cleaning     816530 non-null uint8\n",
      "category_key_professional_sofa_cleaning        816530 non-null uint8\n",
      "category_key_refrigerator_repair               816530 non-null uint8\n",
      "category_key_ro_repair                         816530 non-null uint8\n",
      "category_key_salon_at_home                     816530 non-null uint8\n",
      "category_key_spa_at_home                       816530 non-null uint8\n",
      "category_key_washing_machine_repair            816530 non-null uint8\n",
      "rptcatg_Appliance Repair                       816530 non-null uint8\n",
      "rptcatg_Cleaning - Other                       816530 non-null uint8\n",
      "rptcatg_EPC                                    816530 non-null uint8\n",
      "rptcatg_Full Home Cleaning                     816530 non-null uint8\n",
      "rptcatg_Massage for Men                        816530 non-null uint8\n",
      "rptcatg_Mens Grooming                          816530 non-null uint8\n",
      "rptcatg_Pest Control                           816530 non-null uint8\n",
      "rptcatg_Salon at Home                          816530 non-null uint8\n",
      "rptcatg_Spa for Women                          816530 non-null uint8\n",
      "dtypes: datetime64[ns](1), int64(2), object(1), uint8(42)\n",
      "memory usage: 57.6+ MB\n"
     ]
    }
   ],
   "source": [
    "\n",
    "df.info()"
   ]
  },
  {
   "cell_type": "code",
   "execution_count": 43,
   "metadata": {},
   "outputs": [],
   "source": [
    "#Extracting the hour from event_time\n",
    "df['Hours']=df['event_time'].dt.strftime('%H').astype(int)"
   ]
  },
  {
   "cell_type": "code",
   "execution_count": 44,
   "metadata": {},
   "outputs": [],
   "source": [
    "#Extracting minutes from event time\n",
    "df['Minutes']=df['event_time'].dt.strftime('%M').astype(int)"
   ]
  },
  {
   "cell_type": "code",
   "execution_count": 45,
   "metadata": {},
   "outputs": [
    {
     "name": "stdout",
     "output_type": "stream",
     "text": [
      "<class 'pandas.core.frame.DataFrame'>\n",
      "RangeIndex: 816530 entries, 0 to 816529\n",
      "Data columns (total 48 columns):\n",
      "record_id                                      816530 non-null object\n",
      "event_time                                     816530 non-null datetime64[ns]\n",
      "req_id                                         816530 non-null int64\n",
      "session_group                                  816530 non-null int64\n",
      "city_key_city_ahmedabad_v2                     816530 non-null uint8\n",
      "city_key_city_bangalore_v2                     816530 non-null uint8\n",
      "city_key_city_chandigarh_v2                    816530 non-null uint8\n",
      "city_key_city_chennai_v2                       816530 non-null uint8\n",
      "city_key_city_delhi_v2                         816530 non-null uint8\n",
      "city_key_city_hyderabad_v2                     816530 non-null uint8\n",
      "city_key_city_jaipur_v2                        816530 non-null uint8\n",
      "city_key_city_kolkata_v2                       816530 non-null uint8\n",
      "city_key_city_mumbai_v2                        816530 non-null uint8\n",
      "city_key_city_pune_v2                          816530 non-null uint8\n",
      "weekday_friday                                 816530 non-null uint8\n",
      "weekday_saturday                               816530 non-null uint8\n",
      "weekday_sunday                                 816530 non-null uint8\n",
      "weekday_weekday                                816530 non-null uint8\n",
      "category_key_ac_service_repair                 816530 non-null uint8\n",
      "category_key_car_cleaning                      816530 non-null uint8\n",
      "category_key_carpenters                        816530 non-null uint8\n",
      "category_key_electricians                      816530 non-null uint8\n",
      "category_key_massage_for_men                   816530 non-null uint8\n",
      "category_key_mens_grooming                     816530 non-null uint8\n",
      "category_key_microwave_repair                  816530 non-null uint8\n",
      "category_key_pest_control                      816530 non-null uint8\n",
      "category_key_plumbers                          816530 non-null uint8\n",
      "category_key_professional_bathroom_cleaning    816530 non-null uint8\n",
      "category_key_professional_carpet_cleaning      816530 non-null uint8\n",
      "category_key_professional_home_cleaning        816530 non-null uint8\n",
      "category_key_professional_kitchen_cleaning     816530 non-null uint8\n",
      "category_key_professional_sofa_cleaning        816530 non-null uint8\n",
      "category_key_refrigerator_repair               816530 non-null uint8\n",
      "category_key_ro_repair                         816530 non-null uint8\n",
      "category_key_salon_at_home                     816530 non-null uint8\n",
      "category_key_spa_at_home                       816530 non-null uint8\n",
      "category_key_washing_machine_repair            816530 non-null uint8\n",
      "rptcatg_Appliance Repair                       816530 non-null uint8\n",
      "rptcatg_Cleaning - Other                       816530 non-null uint8\n",
      "rptcatg_EPC                                    816530 non-null uint8\n",
      "rptcatg_Full Home Cleaning                     816530 non-null uint8\n",
      "rptcatg_Massage for Men                        816530 non-null uint8\n",
      "rptcatg_Mens Grooming                          816530 non-null uint8\n",
      "rptcatg_Pest Control                           816530 non-null uint8\n",
      "rptcatg_Salon at Home                          816530 non-null uint8\n",
      "rptcatg_Spa for Women                          816530 non-null uint8\n",
      "Hours                                          816530 non-null int32\n",
      "Minutes                                        816530 non-null int32\n",
      "dtypes: datetime64[ns](1), int32(2), int64(2), object(1), uint8(42)\n",
      "memory usage: 63.9+ MB\n"
     ]
    }
   ],
   "source": [
    "df.info()"
   ]
  },
  {
   "cell_type": "code",
   "execution_count": 46,
   "metadata": {},
   "outputs": [],
   "source": [
    "#Converting seeion_group value to a 4 digit number\n",
    "df['session_group']=df['session_group'].astype(str)"
   ]
  },
  {
   "cell_type": "code",
   "execution_count": 47,
   "metadata": {},
   "outputs": [],
   "source": [
    "def lengthsession(session):\n",
    "    if len(session) <2:\n",
    "        session='000'+session\n",
    "    if len(session) <3:\n",
    "        session='00'+session\n",
    "    if len(session)<4:\n",
    "        sesssion='0'+session\n",
    "    return session "
   ]
  },
  {
   "cell_type": "code",
   "execution_count": 48,
   "metadata": {},
   "outputs": [],
   "source": [
    "df['session_group_str']=df['session_group'].apply(lambda x: lengthsession(x))"
   ]
  },
  {
   "cell_type": "code",
   "execution_count": 49,
   "metadata": {},
   "outputs": [],
   "source": [
    "df['d0_possible']=df['session_group_str'].str[0].astype(int)\n",
    "df['d0_group']=df['session_group_str'].str[1].astype(int)\n",
    "df['d1_group']=df['session_group_str'].str[2].astype(int)\n",
    "df['d2_group']=df['session_group_str'].str[3].astype(int)"
   ]
  },
  {
   "cell_type": "code",
   "execution_count": 50,
   "metadata": {},
   "outputs": [
    {
     "name": "stdout",
     "output_type": "stream",
     "text": [
      "<class 'pandas.core.frame.DataFrame'>\n",
      "RangeIndex: 816530 entries, 0 to 816529\n",
      "Data columns (total 53 columns):\n",
      "record_id                                      816530 non-null object\n",
      "event_time                                     816530 non-null datetime64[ns]\n",
      "req_id                                         816530 non-null int64\n",
      "session_group                                  816530 non-null object\n",
      "city_key_city_ahmedabad_v2                     816530 non-null uint8\n",
      "city_key_city_bangalore_v2                     816530 non-null uint8\n",
      "city_key_city_chandigarh_v2                    816530 non-null uint8\n",
      "city_key_city_chennai_v2                       816530 non-null uint8\n",
      "city_key_city_delhi_v2                         816530 non-null uint8\n",
      "city_key_city_hyderabad_v2                     816530 non-null uint8\n",
      "city_key_city_jaipur_v2                        816530 non-null uint8\n",
      "city_key_city_kolkata_v2                       816530 non-null uint8\n",
      "city_key_city_mumbai_v2                        816530 non-null uint8\n",
      "city_key_city_pune_v2                          816530 non-null uint8\n",
      "weekday_friday                                 816530 non-null uint8\n",
      "weekday_saturday                               816530 non-null uint8\n",
      "weekday_sunday                                 816530 non-null uint8\n",
      "weekday_weekday                                816530 non-null uint8\n",
      "category_key_ac_service_repair                 816530 non-null uint8\n",
      "category_key_car_cleaning                      816530 non-null uint8\n",
      "category_key_carpenters                        816530 non-null uint8\n",
      "category_key_electricians                      816530 non-null uint8\n",
      "category_key_massage_for_men                   816530 non-null uint8\n",
      "category_key_mens_grooming                     816530 non-null uint8\n",
      "category_key_microwave_repair                  816530 non-null uint8\n",
      "category_key_pest_control                      816530 non-null uint8\n",
      "category_key_plumbers                          816530 non-null uint8\n",
      "category_key_professional_bathroom_cleaning    816530 non-null uint8\n",
      "category_key_professional_carpet_cleaning      816530 non-null uint8\n",
      "category_key_professional_home_cleaning        816530 non-null uint8\n",
      "category_key_professional_kitchen_cleaning     816530 non-null uint8\n",
      "category_key_professional_sofa_cleaning        816530 non-null uint8\n",
      "category_key_refrigerator_repair               816530 non-null uint8\n",
      "category_key_ro_repair                         816530 non-null uint8\n",
      "category_key_salon_at_home                     816530 non-null uint8\n",
      "category_key_spa_at_home                       816530 non-null uint8\n",
      "category_key_washing_machine_repair            816530 non-null uint8\n",
      "rptcatg_Appliance Repair                       816530 non-null uint8\n",
      "rptcatg_Cleaning - Other                       816530 non-null uint8\n",
      "rptcatg_EPC                                    816530 non-null uint8\n",
      "rptcatg_Full Home Cleaning                     816530 non-null uint8\n",
      "rptcatg_Massage for Men                        816530 non-null uint8\n",
      "rptcatg_Mens Grooming                          816530 non-null uint8\n",
      "rptcatg_Pest Control                           816530 non-null uint8\n",
      "rptcatg_Salon at Home                          816530 non-null uint8\n",
      "rptcatg_Spa for Women                          816530 non-null uint8\n",
      "Hours                                          816530 non-null int32\n",
      "Minutes                                        816530 non-null int32\n",
      "session_group_str                              816530 non-null object\n",
      "d0_possible                                    816530 non-null int32\n",
      "d0_group                                       816530 non-null int32\n",
      "d1_group                                       816530 non-null int32\n",
      "d2_group                                       816530 non-null int32\n",
      "dtypes: datetime64[ns](1), int32(6), int64(1), object(3), uint8(42)\n",
      "memory usage: 82.5+ MB\n"
     ]
    }
   ],
   "source": [
    "df.info()"
   ]
  },
  {
   "cell_type": "code",
   "execution_count": 51,
   "metadata": {},
   "outputs": [
    {
     "data": {
      "text/plain": [
       "0    444112\n",
       "1    372418\n",
       "Name: req_id, dtype: int64"
      ]
     },
     "execution_count": 51,
     "metadata": {},
     "output_type": "execute_result"
    }
   ],
   "source": [
    "df['req_id'].value_counts()"
   ]
  },
  {
   "cell_type": "code",
   "execution_count": 52,
   "metadata": {},
   "outputs": [],
   "source": [
    "#Splitting the features into X and y variables\n",
    "# Putting feature variable to X\n",
    "X = df.drop(['record_id','event_time','session_group','session_group_str','req_id'],axis=1)\n",
    "\n",
    "# Putting response variable to y\n",
    "y = df['req_id']"
   ]
  },
  {
   "cell_type": "code",
   "execution_count": 53,
   "metadata": {},
   "outputs": [],
   "source": [
    "from sklearn.model_selection import train_test_split\n",
    "# Splitting the data into train and test\n",
    "X_train, X_test, y_train, y_test = train_test_split(X,y, train_size=0.7,test_size=0.3,random_state=100)\n"
   ]
  },
  {
   "cell_type": "markdown",
   "metadata": {},
   "source": [
    "# Explore the dataset"
   ]
  },
  {
   "cell_type": "code",
   "execution_count": 54,
   "metadata": {},
   "outputs": [
    {
     "data": {
      "text/html": [
       "<!-- http://127.0.0.1:7797/2186223685704/ -->\n",
       "<iframe src=\"http://127.0.0.1:7797/2186223685704/\" width=100% height=800 frameBorder=\"0\"></iframe>"
      ]
     },
     "metadata": {},
     "output_type": "display_data"
    }
   ],
   "source": [
    "from interpret import show\n",
    "from interpret.data import ClassHistogram\n",
    "\n",
    "hist = ClassHistogram().explain_data(X_train, y_train, name = 'Train Data')\n",
    "show(hist)"
   ]
  },
  {
   "cell_type": "markdown",
   "metadata": {},
   "source": [
    "# Train the Explainable Boosting Machine (EBM)"
   ]
  },
  {
   "cell_type": "code",
   "execution_count": 55,
   "metadata": {},
   "outputs": [
    {
     "data": {
      "text/plain": [
       "ExplainableBoostingClassifier(binning_strategy='uniform', data_n_episodes=2000,\n",
       "                              early_stopping_run_length=50,\n",
       "                              early_stopping_tolerance=1e-05,\n",
       "                              feature_names=['city_key_city_ahmedabad_v2',\n",
       "                                             'city_key_city_bangalore_v2',\n",
       "                                             'city_key_city_chandigarh_v2',\n",
       "                                             'city_key_city_chennai_v2',\n",
       "                                             'city_key_city_delhi_v2',\n",
       "                                             'city_key_city_hyderabad_v2',\n",
       "                                             'city_key_city_jaipur_v2',\n",
       "                                             'c...\n",
       "                                             'categorical', 'categorical',\n",
       "                                             'categorical', 'categorical',\n",
       "                                             'categorical', 'categorical',\n",
       "                                             'categorical', 'categorical',\n",
       "                                             'categorical', 'categorical', ...],\n",
       "                              holdout_size=0.15, holdout_split=0.15,\n",
       "                              interactions=0, learning_rate=0.01,\n",
       "                              main_attr='all', max_tree_splits=2,\n",
       "                              min_cases_for_splits=2, n_estimators=16,\n",
       "                              n_jobs=-2, random_state=0, schema=None,\n",
       "                              scoring=None, training_step_episodes=1)"
      ]
     },
     "execution_count": 55,
     "metadata": {},
     "output_type": "execute_result"
    }
   ],
   "source": [
    "seed=0\n",
    "from interpret.glassbox import ExplainableBoostingClassifier, LogisticRegression, ClassificationTree, DecisionListClassifier\n",
    "\n",
    "ebm = ExplainableBoostingClassifier(random_state=seed)\n",
    "ebm.fit(X_train, y_train)   #Works on dataframes and numpy arrays"
   ]
  },
  {
   "cell_type": "markdown",
   "metadata": {},
   "source": [
    "# Global Explanations: What the model learned overall"
   ]
  },
  {
   "cell_type": "code",
   "execution_count": 56,
   "metadata": {},
   "outputs": [
    {
     "data": {
      "text/html": [
       "<!-- http://127.0.0.1:7797/2186478072904/ -->\n",
       "<iframe src=\"http://127.0.0.1:7797/2186478072904/\" width=100% height=800 frameBorder=\"0\"></iframe>"
      ]
     },
     "metadata": {},
     "output_type": "display_data"
    }
   ],
   "source": [
    "ebm_global = ebm.explain_global(name='EBM')\n",
    "show(ebm_global)"
   ]
  },
  {
   "cell_type": "markdown",
   "metadata": {},
   "source": [
    "# Local Explanations: How an individual prediction was made"
   ]
  },
  {
   "cell_type": "code",
   "execution_count": 57,
   "metadata": {},
   "outputs": [
    {
     "data": {
      "text/html": [
       "<!-- http://127.0.0.1:7797/2186478053000/ -->\n",
       "<iframe src=\"http://127.0.0.1:7797/2186478053000/\" width=100% height=800 frameBorder=\"0\"></iframe>"
      ]
     },
     "metadata": {},
     "output_type": "display_data"
    }
   ],
   "source": [
    "ebm_local = ebm.explain_local(X_test[:5], y_test[:5], name='EBM')\n",
    "show(ebm_local)"
   ]
  },
  {
   "cell_type": "markdown",
   "metadata": {},
   "source": [
    "# Evaluate EBM performance"
   ]
  },
  {
   "cell_type": "code",
   "execution_count": 61,
   "metadata": {},
   "outputs": [
    {
     "data": {
      "text/html": [
       "<!-- http://127.0.0.1:7797/2186479681160/ -->\n",
       "<iframe src=\"http://127.0.0.1:7797/2186479681160/\" width=100% height=800 frameBorder=\"0\"></iframe>"
      ]
     },
     "metadata": {},
     "output_type": "display_data"
    }
   ],
   "source": [
    "from interpret.perf import ROC\n",
    "\n",
    "ebm_perf = ROC(ebm.predict_proba).explain_perf(X_test, y_test, name='EBM')\n",
    "show(ebm_perf)"
   ]
  },
  {
   "cell_type": "markdown",
   "metadata": {},
   "source": [
    "# Let's test out a few other Explainable Models"
   ]
  },
  {
   "cell_type": "code",
   "execution_count": 62,
   "metadata": {},
   "outputs": [
    {
     "data": {
      "text/plain": [
       "<interpret.glassbox.decisiontree.ClassificationTree at 0x1fd141b7388>"
      ]
     },
     "execution_count": 62,
     "metadata": {},
     "output_type": "execute_result"
    }
   ],
   "source": [
    "from interpret.glassbox import LogisticRegression, ClassificationTree\n",
    "\n",
    "# We have to transform categorical variables to use Logistic Regression and Decision Tree\n",
    "feature_names = list(X.columns)\n",
    "\n",
    "\n",
    "lr = LogisticRegression(random_state=seed, feature_names=feature_names, penalty='l1', solver='liblinear')\n",
    "lr.fit(X_train, y_train)\n",
    "\n",
    "tree = ClassificationTree()\n",
    "tree.fit(X_train, y_train)"
   ]
  },
  {
   "cell_type": "markdown",
   "metadata": {},
   "source": [
    "# Compare performance using the Dashboard"
   ]
  },
  {
   "cell_type": "code",
   "execution_count": 63,
   "metadata": {},
   "outputs": [
    {
     "data": {
      "text/html": [
       "<!-- http://127.0.0.1:7797/2186506850120/ -->\n",
       "<iframe src=\"http://127.0.0.1:7797/2186506850120/\" width=100% height=800 frameBorder=\"0\"></iframe>"
      ]
     },
     "metadata": {},
     "output_type": "display_data"
    },
    {
     "data": {
      "text/html": [
       "<!-- http://127.0.0.1:7797/2186506849480/ -->\n",
       "<iframe src=\"http://127.0.0.1:7797/2186506849480/\" width=100% height=800 frameBorder=\"0\"></iframe>"
      ]
     },
     "metadata": {},
     "output_type": "display_data"
    },
    {
     "data": {
      "text/html": [
       "<!-- http://127.0.0.1:7797/2186479681160/ -->\n",
       "<iframe src=\"http://127.0.0.1:7797/2186479681160/\" width=100% height=800 frameBorder=\"0\"></iframe>"
      ]
     },
     "metadata": {},
     "output_type": "display_data"
    }
   ],
   "source": [
    "lr_perf = ROC(lr.predict_proba).explain_perf(X_test, y_test, name='Logistic Regression')\n",
    "tree_perf = ROC(tree.predict_proba).explain_perf(X_test, y_test, name='Classification Tree')\n",
    "\n",
    "show(lr_perf)\n",
    "show(tree_perf)\n",
    "show(ebm_perf)"
   ]
  },
  {
   "cell_type": "markdown",
   "metadata": {},
   "source": [
    "# Glassbox: All of our models have global and local explanations"
   ]
  },
  {
   "cell_type": "code",
   "execution_count": 64,
   "metadata": {},
   "outputs": [
    {
     "data": {
      "text/html": [
       "<!-- http://127.0.0.1:7797/2186551163528/ -->\n",
       "<iframe src=\"http://127.0.0.1:7797/2186551163528/\" width=100% height=800 frameBorder=\"0\"></iframe>"
      ]
     },
     "metadata": {},
     "output_type": "display_data"
    },
    {
     "data": {
      "text/html": [
       "<!-- http://127.0.0.1:7797/2186551194184/ -->\n",
       "<iframe src=\"http://127.0.0.1:7797/2186551194184/\" width=100% height=800 frameBorder=\"0\"></iframe>"
      ]
     },
     "metadata": {},
     "output_type": "display_data"
    },
    {
     "data": {
      "text/html": [
       "<!-- http://127.0.0.1:7797/2186478072904/ -->\n",
       "<iframe src=\"http://127.0.0.1:7797/2186478072904/\" width=100% height=800 frameBorder=\"0\"></iframe>"
      ]
     },
     "metadata": {},
     "output_type": "display_data"
    }
   ],
   "source": [
    "lr_global = lr.explain_global(name='LR')\n",
    "tree_global = tree.explain_global(name='Tree')\n",
    "\n",
    "show(lr_global)\n",
    "show(tree_global)\n",
    "show(ebm_global)"
   ]
  },
  {
   "cell_type": "markdown",
   "metadata": {},
   "source": [
    "# Dashboard: look at everything at once"
   ]
  },
  {
   "cell_type": "code",
   "execution_count": 65,
   "metadata": {},
   "outputs": [
    {
     "data": {
      "text/html": [
       "<!-- http://127.0.0.1:7797/2186506925384/ -->\n",
       "<a href=\"http://127.0.0.1:7797/2186506925384/\" target=\"_new\">Open in new window</a><iframe src=\"http://127.0.0.1:7797/2186506925384/\" width=100% height=800 frameBorder=\"0\"></iframe>"
      ]
     },
     "metadata": {},
     "output_type": "display_data"
    }
   ],
   "source": [
    "# Do everything in one shot with the InterpretML Dashboard by passing a list into show\n",
    "\n",
    "show([hist, lr_global, lr_perf, tree_global, tree_perf, ebm_global, ebm_perf], share_tables=True)"
   ]
  },
  {
   "cell_type": "code",
   "execution_count": null,
   "metadata": {},
   "outputs": [],
   "source": []
  }
 ],
 "metadata": {
  "hide_input": false,
  "kernelspec": {
   "display_name": "Python 3",
   "language": "python",
   "name": "python3"
  },
  "language_info": {
   "codemirror_mode": {
    "name": "ipython",
    "version": 3
   },
   "file_extension": ".py",
   "mimetype": "text/x-python",
   "name": "python",
   "nbconvert_exporter": "python",
   "pygments_lexer": "ipython3",
   "version": "3.7.6"
  },
  "toc": {
   "base_numbering": 1,
   "nav_menu": {},
   "number_sections": true,
   "sideBar": true,
   "skip_h1_title": false,
   "title_cell": "Table of Contents",
   "title_sidebar": "Contents",
   "toc_cell": false,
   "toc_position": {},
   "toc_section_display": true,
   "toc_window_display": false
  },
  "varInspector": {
   "cols": {
    "lenName": 16,
    "lenType": 16,
    "lenVar": 40
   },
   "kernels_config": {
    "python": {
     "delete_cmd_postfix": "",
     "delete_cmd_prefix": "del ",
     "library": "var_list.py",
     "varRefreshCmd": "print(var_dic_list())"
    },
    "r": {
     "delete_cmd_postfix": ") ",
     "delete_cmd_prefix": "rm(",
     "library": "var_list.r",
     "varRefreshCmd": "cat(var_dic_list()) "
    }
   },
   "types_to_exclude": [
    "module",
    "function",
    "builtin_function_or_method",
    "instance",
    "_Feature"
   ],
   "window_display": false
  }
 },
 "nbformat": 4,
 "nbformat_minor": 2
}
